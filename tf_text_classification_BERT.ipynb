{
  "nbformat": 4,
  "nbformat_minor": 0,
  "metadata": {
    "colab": {
      "name": "tf_text_classification_BERT.ipynb",
      "provenance": [],
      "collapsed_sections": [],
      "authorship_tag": "ABX9TyPBRZ6DkrdqmJTnsiwz0uRu",
      "include_colab_link": true
    },
    "kernelspec": {
      "name": "python3",
      "display_name": "Python 3"
    },
    "accelerator": "GPU"
  },
  "cells": [
    {
      "cell_type": "markdown",
      "metadata": {
        "id": "view-in-github",
        "colab_type": "text"
      },
      "source": [
        "<a href=\"https://colab.research.google.com/github/Kozzlov/nlp_tf_text_classification_with_small-BERT/blob/main/tf_text_classification_BERT.ipynb\" target=\"_parent\"><img src=\"https://colab.research.google.com/assets/colab-badge.svg\" alt=\"Open In Colab\"/></a>"
      ]
    },
    {
      "cell_type": "code",
      "metadata": {
        "colab": {
          "base_uri": "https://localhost:8080/"
        },
        "id": "pZTRpZdDML45",
        "outputId": "f1f934d6-bf45-4f11-ffdd-49e992731803"
      },
      "source": [
        "pip install -q tensorflow-text"
      ],
      "execution_count": 1,
      "outputs": [
        {
          "output_type": "stream",
          "text": [
            "\u001b[?25l\r\u001b[K     |                                | 10kB 29.6MB/s eta 0:00:01\r\u001b[K     |▏                               | 20kB 35.3MB/s eta 0:00:01\r\u001b[K     |▎                               | 30kB 23.7MB/s eta 0:00:01\r\u001b[K     |▍                               | 40kB 27.2MB/s eta 0:00:01\r\u001b[K     |▌                               | 51kB 26.1MB/s eta 0:00:01\r\u001b[K     |▋                               | 61kB 28.8MB/s eta 0:00:01\r\u001b[K     |▊                               | 71kB 24.4MB/s eta 0:00:01\r\u001b[K     |▉                               | 81kB 24.6MB/s eta 0:00:01\r\u001b[K     |▉                               | 92kB 26.2MB/s eta 0:00:01\r\u001b[K     |█                               | 102kB 23.7MB/s eta 0:00:01\r\u001b[K     |█                               | 112kB 23.7MB/s eta 0:00:01\r\u001b[K     |█▏                              | 122kB 23.7MB/s eta 0:00:01\r\u001b[K     |█▎                              | 133kB 23.7MB/s eta 0:00:01\r\u001b[K     |█▍                              | 143kB 23.7MB/s eta 0:00:01\r\u001b[K     |█▌                              | 153kB 23.7MB/s eta 0:00:01\r\u001b[K     |█▋                              | 163kB 23.7MB/s eta 0:00:01\r\u001b[K     |█▋                              | 174kB 23.7MB/s eta 0:00:01\r\u001b[K     |█▊                              | 184kB 23.7MB/s eta 0:00:01\r\u001b[K     |█▉                              | 194kB 23.7MB/s eta 0:00:01\r\u001b[K     |██                              | 204kB 23.7MB/s eta 0:00:01\r\u001b[K     |██                              | 215kB 23.7MB/s eta 0:00:01\r\u001b[K     |██▏                             | 225kB 23.7MB/s eta 0:00:01\r\u001b[K     |██▎                             | 235kB 23.7MB/s eta 0:00:01\r\u001b[K     |██▍                             | 245kB 23.7MB/s eta 0:00:01\r\u001b[K     |██▍                             | 256kB 23.7MB/s eta 0:00:01\r\u001b[K     |██▌                             | 266kB 23.7MB/s eta 0:00:01\r\u001b[K     |██▋                             | 276kB 23.7MB/s eta 0:00:01\r\u001b[K     |██▊                             | 286kB 23.7MB/s eta 0:00:01\r\u001b[K     |██▉                             | 296kB 23.7MB/s eta 0:00:01\r\u001b[K     |███                             | 307kB 23.7MB/s eta 0:00:01\r\u001b[K     |███                             | 317kB 23.7MB/s eta 0:00:01\r\u001b[K     |███▏                            | 327kB 23.7MB/s eta 0:00:01\r\u001b[K     |███▏                            | 337kB 23.7MB/s eta 0:00:01\r\u001b[K     |███▎                            | 348kB 23.7MB/s eta 0:00:01\r\u001b[K     |███▍                            | 358kB 23.7MB/s eta 0:00:01\r\u001b[K     |███▌                            | 368kB 23.7MB/s eta 0:00:01\r\u001b[K     |███▋                            | 378kB 23.7MB/s eta 0:00:01\r\u001b[K     |███▊                            | 389kB 23.7MB/s eta 0:00:01\r\u001b[K     |███▉                            | 399kB 23.7MB/s eta 0:00:01\r\u001b[K     |████                            | 409kB 23.7MB/s eta 0:00:01\r\u001b[K     |████                            | 419kB 23.7MB/s eta 0:00:01\r\u001b[K     |████                            | 430kB 23.7MB/s eta 0:00:01\r\u001b[K     |████▏                           | 440kB 23.7MB/s eta 0:00:01\r\u001b[K     |████▎                           | 450kB 23.7MB/s eta 0:00:01\r\u001b[K     |████▍                           | 460kB 23.7MB/s eta 0:00:01\r\u001b[K     |████▌                           | 471kB 23.7MB/s eta 0:00:01\r\u001b[K     |████▋                           | 481kB 23.7MB/s eta 0:00:01\r\u001b[K     |████▊                           | 491kB 23.7MB/s eta 0:00:01\r\u001b[K     |████▊                           | 501kB 23.7MB/s eta 0:00:01\r\u001b[K     |████▉                           | 512kB 23.7MB/s eta 0:00:01\r\u001b[K     |█████                           | 522kB 23.7MB/s eta 0:00:01\r\u001b[K     |█████                           | 532kB 23.7MB/s eta 0:00:01\r\u001b[K     |█████▏                          | 542kB 23.7MB/s eta 0:00:01\r\u001b[K     |█████▎                          | 552kB 23.7MB/s eta 0:00:01\r\u001b[K     |█████▍                          | 563kB 23.7MB/s eta 0:00:01\r\u001b[K     |█████▌                          | 573kB 23.7MB/s eta 0:00:01\r\u001b[K     |█████▌                          | 583kB 23.7MB/s eta 0:00:01\r\u001b[K     |█████▋                          | 593kB 23.7MB/s eta 0:00:01\r\u001b[K     |█████▊                          | 604kB 23.7MB/s eta 0:00:01\r\u001b[K     |█████▉                          | 614kB 23.7MB/s eta 0:00:01\r\u001b[K     |██████                          | 624kB 23.7MB/s eta 0:00:01\r\u001b[K     |██████                          | 634kB 23.7MB/s eta 0:00:01\r\u001b[K     |██████▏                         | 645kB 23.7MB/s eta 0:00:01\r\u001b[K     |██████▎                         | 655kB 23.7MB/s eta 0:00:01\r\u001b[K     |██████▎                         | 665kB 23.7MB/s eta 0:00:01\r\u001b[K     |██████▍                         | 675kB 23.7MB/s eta 0:00:01\r\u001b[K     |██████▌                         | 686kB 23.7MB/s eta 0:00:01\r\u001b[K     |██████▋                         | 696kB 23.7MB/s eta 0:00:01\r\u001b[K     |██████▊                         | 706kB 23.7MB/s eta 0:00:01\r\u001b[K     |██████▉                         | 716kB 23.7MB/s eta 0:00:01\r\u001b[K     |███████                         | 727kB 23.7MB/s eta 0:00:01\r\u001b[K     |███████                         | 737kB 23.7MB/s eta 0:00:01\r\u001b[K     |███████                         | 747kB 23.7MB/s eta 0:00:01\r\u001b[K     |███████▏                        | 757kB 23.7MB/s eta 0:00:01\r\u001b[K     |███████▎                        | 768kB 23.7MB/s eta 0:00:01\r\u001b[K     |███████▍                        | 778kB 23.7MB/s eta 0:00:01\r\u001b[K     |███████▌                        | 788kB 23.7MB/s eta 0:00:01\r\u001b[K     |███████▋                        | 798kB 23.7MB/s eta 0:00:01\r\u001b[K     |███████▊                        | 808kB 23.7MB/s eta 0:00:01\r\u001b[K     |███████▉                        | 819kB 23.7MB/s eta 0:00:01\r\u001b[K     |███████▉                        | 829kB 23.7MB/s eta 0:00:01\r\u001b[K     |████████                        | 839kB 23.7MB/s eta 0:00:01\r\u001b[K     |████████                        | 849kB 23.7MB/s eta 0:00:01\r\u001b[K     |████████▏                       | 860kB 23.7MB/s eta 0:00:01\r\u001b[K     |████████▎                       | 870kB 23.7MB/s eta 0:00:01\r\u001b[K     |████████▍                       | 880kB 23.7MB/s eta 0:00:01\r\u001b[K     |████████▌                       | 890kB 23.7MB/s eta 0:00:01\r\u001b[K     |████████▋                       | 901kB 23.7MB/s eta 0:00:01\r\u001b[K     |████████▋                       | 911kB 23.7MB/s eta 0:00:01\r\u001b[K     |████████▊                       | 921kB 23.7MB/s eta 0:00:01\r\u001b[K     |████████▉                       | 931kB 23.7MB/s eta 0:00:01\r\u001b[K     |█████████                       | 942kB 23.7MB/s eta 0:00:01\r\u001b[K     |█████████                       | 952kB 23.7MB/s eta 0:00:01\r\u001b[K     |█████████▏                      | 962kB 23.7MB/s eta 0:00:01\r\u001b[K     |█████████▎                      | 972kB 23.7MB/s eta 0:00:01\r\u001b[K     |█████████▍                      | 983kB 23.7MB/s eta 0:00:01\r\u001b[K     |█████████▌                      | 993kB 23.7MB/s eta 0:00:01\r\u001b[K     |█████████▌                      | 1.0MB 23.7MB/s eta 0:00:01\r\u001b[K     |█████████▋                      | 1.0MB 23.7MB/s eta 0:00:01\r\u001b[K     |█████████▊                      | 1.0MB 23.7MB/s eta 0:00:01\r\u001b[K     |█████████▉                      | 1.0MB 23.7MB/s eta 0:00:01\r\u001b[K     |██████████                      | 1.0MB 23.7MB/s eta 0:00:01\r\u001b[K     |██████████                      | 1.1MB 23.7MB/s eta 0:00:01\r\u001b[K     |██████████▏                     | 1.1MB 23.7MB/s eta 0:00:01\r\u001b[K     |██████████▎                     | 1.1MB 23.7MB/s eta 0:00:01\r\u001b[K     |██████████▎                     | 1.1MB 23.7MB/s eta 0:00:01\r\u001b[K     |██████████▍                     | 1.1MB 23.7MB/s eta 0:00:01\r\u001b[K     |██████████▌                     | 1.1MB 23.7MB/s eta 0:00:01\r\u001b[K     |██████████▋                     | 1.1MB 23.7MB/s eta 0:00:01\r\u001b[K     |██████████▊                     | 1.1MB 23.7MB/s eta 0:00:01\r\u001b[K     |██████████▉                     | 1.1MB 23.7MB/s eta 0:00:01\r\u001b[K     |███████████                     | 1.1MB 23.7MB/s eta 0:00:01\r\u001b[K     |███████████                     | 1.2MB 23.7MB/s eta 0:00:01\r\u001b[K     |███████████                     | 1.2MB 23.7MB/s eta 0:00:01\r\u001b[K     |███████████▏                    | 1.2MB 23.7MB/s eta 0:00:01\r\u001b[K     |███████████▎                    | 1.2MB 23.7MB/s eta 0:00:01\r\u001b[K     |███████████▍                    | 1.2MB 23.7MB/s eta 0:00:01\r\u001b[K     |███████████▌                    | 1.2MB 23.7MB/s eta 0:00:01\r\u001b[K     |███████████▋                    | 1.2MB 23.7MB/s eta 0:00:01\r\u001b[K     |███████████▊                    | 1.2MB 23.7MB/s eta 0:00:01\r\u001b[K     |███████████▉                    | 1.2MB 23.7MB/s eta 0:00:01\r\u001b[K     |███████████▉                    | 1.2MB 23.7MB/s eta 0:00:01\r\u001b[K     |████████████                    | 1.3MB 23.7MB/s eta 0:00:01\r\u001b[K     |████████████                    | 1.3MB 23.7MB/s eta 0:00:01\r\u001b[K     |████████████▏                   | 1.3MB 23.7MB/s eta 0:00:01\r\u001b[K     |████████████▎                   | 1.3MB 23.7MB/s eta 0:00:01\r\u001b[K     |████████████▍                   | 1.3MB 23.7MB/s eta 0:00:01\r\u001b[K     |████████████▌                   | 1.3MB 23.7MB/s eta 0:00:01\r\u001b[K     |████████████▋                   | 1.3MB 23.7MB/s eta 0:00:01\r\u001b[K     |████████████▋                   | 1.3MB 23.7MB/s eta 0:00:01\r\u001b[K     |████████████▊                   | 1.3MB 23.7MB/s eta 0:00:01\r\u001b[K     |████████████▉                   | 1.4MB 23.7MB/s eta 0:00:01\r\u001b[K     |█████████████                   | 1.4MB 23.7MB/s eta 0:00:01\r\u001b[K     |█████████████                   | 1.4MB 23.7MB/s eta 0:00:01\r\u001b[K     |█████████████▏                  | 1.4MB 23.7MB/s eta 0:00:01\r\u001b[K     |█████████████▎                  | 1.4MB 23.7MB/s eta 0:00:01\r\u001b[K     |█████████████▍                  | 1.4MB 23.7MB/s eta 0:00:01\r\u001b[K     |█████████████▍                  | 1.4MB 23.7MB/s eta 0:00:01\r\u001b[K     |█████████████▌                  | 1.4MB 23.7MB/s eta 0:00:01\r\u001b[K     |█████████████▋                  | 1.4MB 23.7MB/s eta 0:00:01\r\u001b[K     |█████████████▊                  | 1.4MB 23.7MB/s eta 0:00:01\r\u001b[K     |█████████████▉                  | 1.5MB 23.7MB/s eta 0:00:01\r\u001b[K     |██████████████                  | 1.5MB 23.7MB/s eta 0:00:01\r\u001b[K     |██████████████                  | 1.5MB 23.7MB/s eta 0:00:01\r\u001b[K     |██████████████▏                 | 1.5MB 23.7MB/s eta 0:00:01\r\u001b[K     |██████████████▏                 | 1.5MB 23.7MB/s eta 0:00:01\r\u001b[K     |██████████████▎                 | 1.5MB 23.7MB/s eta 0:00:01\r\u001b[K     |██████████████▍                 | 1.5MB 23.7MB/s eta 0:00:01\r\u001b[K     |██████████████▌                 | 1.5MB 23.7MB/s eta 0:00:01\r\u001b[K     |██████████████▋                 | 1.5MB 23.7MB/s eta 0:00:01\r\u001b[K     |██████████████▊                 | 1.5MB 23.7MB/s eta 0:00:01\r\u001b[K     |██████████████▉                 | 1.6MB 23.7MB/s eta 0:00:01\r\u001b[K     |███████████████                 | 1.6MB 23.7MB/s eta 0:00:01\r\u001b[K     |███████████████                 | 1.6MB 23.7MB/s eta 0:00:01\r\u001b[K     |███████████████                 | 1.6MB 23.7MB/s eta 0:00:01\r\u001b[K     |███████████████▏                | 1.6MB 23.7MB/s eta 0:00:01\r\u001b[K     |███████████████▎                | 1.6MB 23.7MB/s eta 0:00:01\r\u001b[K     |███████████████▍                | 1.6MB 23.7MB/s eta 0:00:01\r\u001b[K     |███████████████▌                | 1.6MB 23.7MB/s eta 0:00:01\r\u001b[K     |███████████████▋                | 1.6MB 23.7MB/s eta 0:00:01\r\u001b[K     |███████████████▊                | 1.6MB 23.7MB/s eta 0:00:01\r\u001b[K     |███████████████▊                | 1.7MB 23.7MB/s eta 0:00:01\r\u001b[K     |███████████████▉                | 1.7MB 23.7MB/s eta 0:00:01\r\u001b[K     |████████████████                | 1.7MB 23.7MB/s eta 0:00:01\r\u001b[K     |████████████████                | 1.7MB 23.7MB/s eta 0:00:01\r\u001b[K     |████████████████▏               | 1.7MB 23.7MB/s eta 0:00:01\r\u001b[K     |████████████████▎               | 1.7MB 23.7MB/s eta 0:00:01\r\u001b[K     |████████████████▍               | 1.7MB 23.7MB/s eta 0:00:01\r\u001b[K     |████████████████▌               | 1.7MB 23.7MB/s eta 0:00:01\r\u001b[K     |████████████████▌               | 1.7MB 23.7MB/s eta 0:00:01\r\u001b[K     |████████████████▋               | 1.8MB 23.7MB/s eta 0:00:01\r\u001b[K     |████████████████▊               | 1.8MB 23.7MB/s eta 0:00:01\r\u001b[K     |████████████████▉               | 1.8MB 23.7MB/s eta 0:00:01\r\u001b[K     |█████████████████               | 1.8MB 23.7MB/s eta 0:00:01\r\u001b[K     |█████████████████               | 1.8MB 23.7MB/s eta 0:00:01\r\u001b[K     |█████████████████▏              | 1.8MB 23.7MB/s eta 0:00:01\r\u001b[K     |█████████████████▎              | 1.8MB 23.7MB/s eta 0:00:01\r\u001b[K     |█████████████████▎              | 1.8MB 23.7MB/s eta 0:00:01\r\u001b[K     |█████████████████▍              | 1.8MB 23.7MB/s eta 0:00:01\r\u001b[K     |█████████████████▌              | 1.8MB 23.7MB/s eta 0:00:01\r\u001b[K     |█████████████████▋              | 1.9MB 23.7MB/s eta 0:00:01\r\u001b[K     |█████████████████▊              | 1.9MB 23.7MB/s eta 0:00:01\r\u001b[K     |█████████████████▉              | 1.9MB 23.7MB/s eta 0:00:01\r\u001b[K     |██████████████████              | 1.9MB 23.7MB/s eta 0:00:01\r\u001b[K     |██████████████████              | 1.9MB 23.7MB/s eta 0:00:01\r\u001b[K     |██████████████████              | 1.9MB 23.7MB/s eta 0:00:01\r\u001b[K     |██████████████████▏             | 1.9MB 23.7MB/s eta 0:00:01\r\u001b[K     |██████████████████▎             | 1.9MB 23.7MB/s eta 0:00:01\r\u001b[K     |██████████████████▍             | 1.9MB 23.7MB/s eta 0:00:01\r\u001b[K     |██████████████████▌             | 1.9MB 23.7MB/s eta 0:00:01\r\u001b[K     |██████████████████▋             | 2.0MB 23.7MB/s eta 0:00:01\r\u001b[K     |██████████████████▊             | 2.0MB 23.7MB/s eta 0:00:01\r\u001b[K     |██████████████████▉             | 2.0MB 23.7MB/s eta 0:00:01\r\u001b[K     |███████████████████             | 2.0MB 23.7MB/s eta 0:00:01\r\u001b[K     |███████████████████             | 2.0MB 23.7MB/s eta 0:00:01\r\u001b[K     |███████████████████             | 2.0MB 23.7MB/s eta 0:00:01\r\u001b[K     |███████████████████▏            | 2.0MB 23.7MB/s eta 0:00:01\r\u001b[K     |███████████████████▎            | 2.0MB 23.7MB/s eta 0:00:01\r\u001b[K     |███████████████████▍            | 2.0MB 23.7MB/s eta 0:00:01\r\u001b[K     |███████████████████▌            | 2.0MB 23.7MB/s eta 0:00:01\r\u001b[K     |███████████████████▋            | 2.1MB 23.7MB/s eta 0:00:01\r\u001b[K     |███████████████████▊            | 2.1MB 23.7MB/s eta 0:00:01\r\u001b[K     |███████████████████▊            | 2.1MB 23.7MB/s eta 0:00:01\r\u001b[K     |███████████████████▉            | 2.1MB 23.7MB/s eta 0:00:01\r\u001b[K     |████████████████████            | 2.1MB 23.7MB/s eta 0:00:01\r\u001b[K     |████████████████████            | 2.1MB 23.7MB/s eta 0:00:01\r\u001b[K     |████████████████████▏           | 2.1MB 23.7MB/s eta 0:00:01\r\u001b[K     |████████████████████▎           | 2.1MB 23.7MB/s eta 0:00:01\r\u001b[K     |████████████████████▍           | 2.1MB 23.7MB/s eta 0:00:01\r\u001b[K     |████████████████████▌           | 2.2MB 23.7MB/s eta 0:00:01\r\u001b[K     |████████████████████▌           | 2.2MB 23.7MB/s eta 0:00:01\r\u001b[K     |████████████████████▋           | 2.2MB 23.7MB/s eta 0:00:01\r\u001b[K     |████████████████████▊           | 2.2MB 23.7MB/s eta 0:00:01\r\u001b[K     |████████████████████▉           | 2.2MB 23.7MB/s eta 0:00:01\r\u001b[K     |█████████████████████           | 2.2MB 23.7MB/s eta 0:00:01\r\u001b[K     |█████████████████████           | 2.2MB 23.7MB/s eta 0:00:01\r\u001b[K     |█████████████████████▏          | 2.2MB 23.7MB/s eta 0:00:01\r\u001b[K     |█████████████████████▎          | 2.2MB 23.7MB/s eta 0:00:01\r\u001b[K     |█████████████████████▎          | 2.2MB 23.7MB/s eta 0:00:01\r\u001b[K     |█████████████████████▍          | 2.3MB 23.7MB/s eta 0:00:01\r\u001b[K     |█████████████████████▌          | 2.3MB 23.7MB/s eta 0:00:01\r\u001b[K     |█████████████████████▋          | 2.3MB 23.7MB/s eta 0:00:01\r\u001b[K     |█████████████████████▊          | 2.3MB 23.7MB/s eta 0:00:01\r\u001b[K     |█████████████████████▉          | 2.3MB 23.7MB/s eta 0:00:01\r\u001b[K     |██████████████████████          | 2.3MB 23.7MB/s eta 0:00:01\r\u001b[K     |██████████████████████          | 2.3MB 23.7MB/s eta 0:00:01\r\u001b[K     |██████████████████████          | 2.3MB 23.7MB/s eta 0:00:01\r\u001b[K     |██████████████████████▏         | 2.3MB 23.7MB/s eta 0:00:01\r\u001b[K     |██████████████████████▎         | 2.3MB 23.7MB/s eta 0:00:01\r\u001b[K     |██████████████████████▍         | 2.4MB 23.7MB/s eta 0:00:01\r\u001b[K     |██████████████████████▌         | 2.4MB 23.7MB/s eta 0:00:01\r\u001b[K     |██████████████████████▋         | 2.4MB 23.7MB/s eta 0:00:01\r\u001b[K     |██████████████████████▊         | 2.4MB 23.7MB/s eta 0:00:01\r\u001b[K     |██████████████████████▉         | 2.4MB 23.7MB/s eta 0:00:01\r\u001b[K     |██████████████████████▉         | 2.4MB 23.7MB/s eta 0:00:01\r\u001b[K     |███████████████████████         | 2.4MB 23.7MB/s eta 0:00:01\r\u001b[K     |███████████████████████         | 2.4MB 23.7MB/s eta 0:00:01\r\u001b[K     |███████████████████████▏        | 2.4MB 23.7MB/s eta 0:00:01\r\u001b[K     |███████████████████████▎        | 2.4MB 23.7MB/s eta 0:00:01\r\u001b[K     |███████████████████████▍        | 2.5MB 23.7MB/s eta 0:00:01\r\u001b[K     |███████████████████████▌        | 2.5MB 23.7MB/s eta 0:00:01\r\u001b[K     |███████████████████████▋        | 2.5MB 23.7MB/s eta 0:00:01\r\u001b[K     |███████████████████████▋        | 2.5MB 23.7MB/s eta 0:00:01\r\u001b[K     |███████████████████████▊        | 2.5MB 23.7MB/s eta 0:00:01\r\u001b[K     |███████████████████████▉        | 2.5MB 23.7MB/s eta 0:00:01\r\u001b[K     |████████████████████████        | 2.5MB 23.7MB/s eta 0:00:01\r\u001b[K     |████████████████████████        | 2.5MB 23.7MB/s eta 0:00:01\r\u001b[K     |████████████████████████▏       | 2.5MB 23.7MB/s eta 0:00:01\r\u001b[K     |████████████████████████▎       | 2.5MB 23.7MB/s eta 0:00:01\r\u001b[K     |████████████████████████▍       | 2.6MB 23.7MB/s eta 0:00:01\r\u001b[K     |████████████████████████▍       | 2.6MB 23.7MB/s eta 0:00:01\r\u001b[K     |████████████████████████▌       | 2.6MB 23.7MB/s eta 0:00:01\r\u001b[K     |████████████████████████▋       | 2.6MB 23.7MB/s eta 0:00:01\r\u001b[K     |████████████████████████▊       | 2.6MB 23.7MB/s eta 0:00:01\r\u001b[K     |████████████████████████▉       | 2.6MB 23.7MB/s eta 0:00:01\r\u001b[K     |█████████████████████████       | 2.6MB 23.7MB/s eta 0:00:01\r\u001b[K     |█████████████████████████       | 2.6MB 23.7MB/s eta 0:00:01\r\u001b[K     |█████████████████████████▏      | 2.6MB 23.7MB/s eta 0:00:01\r\u001b[K     |█████████████████████████▏      | 2.7MB 23.7MB/s eta 0:00:01\r\u001b[K     |█████████████████████████▎      | 2.7MB 23.7MB/s eta 0:00:01\r\u001b[K     |█████████████████████████▍      | 2.7MB 23.7MB/s eta 0:00:01\r\u001b[K     |█████████████████████████▌      | 2.7MB 23.7MB/s eta 0:00:01\r\u001b[K     |█████████████████████████▋      | 2.7MB 23.7MB/s eta 0:00:01\r\u001b[K     |█████████████████████████▊      | 2.7MB 23.7MB/s eta 0:00:01\r\u001b[K     |█████████████████████████▉      | 2.7MB 23.7MB/s eta 0:00:01\r\u001b[K     |██████████████████████████      | 2.7MB 23.7MB/s eta 0:00:01\r\u001b[K     |██████████████████████████      | 2.7MB 23.7MB/s eta 0:00:01\r\u001b[K     |██████████████████████████      | 2.7MB 23.7MB/s eta 0:00:01\r\u001b[K     |██████████████████████████▏     | 2.8MB 23.7MB/s eta 0:00:01\r\u001b[K     |██████████████████████████▎     | 2.8MB 23.7MB/s eta 0:00:01\r\u001b[K     |██████████████████████████▍     | 2.8MB 23.7MB/s eta 0:00:01\r\u001b[K     |██████████████████████████▌     | 2.8MB 23.7MB/s eta 0:00:01\r\u001b[K     |██████████████████████████▋     | 2.8MB 23.7MB/s eta 0:00:01\r\u001b[K     |██████████████████████████▊     | 2.8MB 23.7MB/s eta 0:00:01\r\u001b[K     |██████████████████████████▊     | 2.8MB 23.7MB/s eta 0:00:01\r\u001b[K     |██████████████████████████▉     | 2.8MB 23.7MB/s eta 0:00:01\r\u001b[K     |███████████████████████████     | 2.8MB 23.7MB/s eta 0:00:01\r\u001b[K     |███████████████████████████     | 2.8MB 23.7MB/s eta 0:00:01\r\u001b[K     |███████████████████████████▏    | 2.9MB 23.7MB/s eta 0:00:01\r\u001b[K     |███████████████████████████▎    | 2.9MB 23.7MB/s eta 0:00:01\r\u001b[K     |███████████████████████████▍    | 2.9MB 23.7MB/s eta 0:00:01\r\u001b[K     |███████████████████████████▌    | 2.9MB 23.7MB/s eta 0:00:01\r\u001b[K     |███████████████████████████▌    | 2.9MB 23.7MB/s eta 0:00:01\r\u001b[K     |███████████████████████████▋    | 2.9MB 23.7MB/s eta 0:00:01\r\u001b[K     |███████████████████████████▊    | 2.9MB 23.7MB/s eta 0:00:01\r\u001b[K     |███████████████████████████▉    | 2.9MB 23.7MB/s eta 0:00:01\r\u001b[K     |████████████████████████████    | 2.9MB 23.7MB/s eta 0:00:01\r\u001b[K     |████████████████████████████    | 2.9MB 23.7MB/s eta 0:00:01\r\u001b[K     |████████████████████████████▏   | 3.0MB 23.7MB/s eta 0:00:01\r\u001b[K     |████████████████████████████▎   | 3.0MB 23.7MB/s eta 0:00:01\r\u001b[K     |████████████████████████████▍   | 3.0MB 23.7MB/s eta 0:00:01\r\u001b[K     |████████████████████████████▍   | 3.0MB 23.7MB/s eta 0:00:01\r\u001b[K     |████████████████████████████▌   | 3.0MB 23.7MB/s eta 0:00:01\r\u001b[K     |████████████████████████████▋   | 3.0MB 23.7MB/s eta 0:00:01\r\u001b[K     |████████████████████████████▊   | 3.0MB 23.7MB/s eta 0:00:01\r\u001b[K     |████████████████████████████▉   | 3.0MB 23.7MB/s eta 0:00:01\r\u001b[K     |█████████████████████████████   | 3.0MB 23.7MB/s eta 0:00:01\r\u001b[K     |█████████████████████████████   | 3.1MB 23.7MB/s eta 0:00:01\r\u001b[K     |█████████████████████████████▏  | 3.1MB 23.7MB/s eta 0:00:01\r\u001b[K     |█████████████████████████████▏  | 3.1MB 23.7MB/s eta 0:00:01\r\u001b[K     |█████████████████████████████▎  | 3.1MB 23.7MB/s eta 0:00:01\r\u001b[K     |█████████████████████████████▍  | 3.1MB 23.7MB/s eta 0:00:01\r\u001b[K     |█████████████████████████████▌  | 3.1MB 23.7MB/s eta 0:00:01\r\u001b[K     |█████████████████████████████▋  | 3.1MB 23.7MB/s eta 0:00:01\r\u001b[K     |█████████████████████████████▊  | 3.1MB 23.7MB/s eta 0:00:01\r\u001b[K     |█████████████████████████████▉  | 3.1MB 23.7MB/s eta 0:00:01\r\u001b[K     |██████████████████████████████  | 3.1MB 23.7MB/s eta 0:00:01\r\u001b[K     |██████████████████████████████  | 3.2MB 23.7MB/s eta 0:00:01\r\u001b[K     |██████████████████████████████  | 3.2MB 23.7MB/s eta 0:00:01\r\u001b[K     |██████████████████████████████▏ | 3.2MB 23.7MB/s eta 0:00:01\r\u001b[K     |██████████████████████████████▎ | 3.2MB 23.7MB/s eta 0:00:01\r\u001b[K     |██████████████████████████████▍ | 3.2MB 23.7MB/s eta 0:00:01\r\u001b[K     |██████████████████████████████▌ | 3.2MB 23.7MB/s eta 0:00:01\r\u001b[K     |██████████████████████████████▋ | 3.2MB 23.7MB/s eta 0:00:01\r\u001b[K     |██████████████████████████████▊ | 3.2MB 23.7MB/s eta 0:00:01\r\u001b[K     |██████████████████████████████▊ | 3.2MB 23.7MB/s eta 0:00:01\r\u001b[K     |██████████████████████████████▉ | 3.2MB 23.7MB/s eta 0:00:01\r\u001b[K     |███████████████████████████████ | 3.3MB 23.7MB/s eta 0:00:01\r\u001b[K     |███████████████████████████████ | 3.3MB 23.7MB/s eta 0:00:01\r\u001b[K     |███████████████████████████████▏| 3.3MB 23.7MB/s eta 0:00:01\r\u001b[K     |███████████████████████████████▎| 3.3MB 23.7MB/s eta 0:00:01\r\u001b[K     |███████████████████████████████▍| 3.3MB 23.7MB/s eta 0:00:01\r\u001b[K     |███████████████████████████████▌| 3.3MB 23.7MB/s eta 0:00:01\r\u001b[K     |███████████████████████████████▌| 3.3MB 23.7MB/s eta 0:00:01\r\u001b[K     |███████████████████████████████▋| 3.3MB 23.7MB/s eta 0:00:01\r\u001b[K     |███████████████████████████████▊| 3.3MB 23.7MB/s eta 0:00:01\r\u001b[K     |███████████████████████████████▉| 3.3MB 23.7MB/s eta 0:00:01\r\u001b[K     |████████████████████████████████| 3.4MB 23.7MB/s eta 0:00:01\r\u001b[K     |████████████████████████████████| 3.4MB 23.7MB/s \n",
            "\u001b[?25h"
          ],
          "name": "stdout"
        }
      ]
    },
    {
      "cell_type": "code",
      "metadata": {
        "colab": {
          "base_uri": "https://localhost:8080/"
        },
        "id": "RVGiHR_Sbh6k",
        "outputId": "21b3c365-b909-4aaf-aeb9-4875df9e9099"
      },
      "source": [
        "pip install -q tf-models-official"
      ],
      "execution_count": 2,
      "outputs": [
        {
          "output_type": "stream",
          "text": [
            "\u001b[K     |████████████████████████████████| 1.1MB 18.0MB/s \n",
            "\u001b[K     |████████████████████████████████| 358kB 42.0MB/s \n",
            "\u001b[K     |████████████████████████████████| 102kB 15.4MB/s \n",
            "\u001b[K     |████████████████████████████████| 706kB 51.6MB/s \n",
            "\u001b[K     |████████████████████████████████| 645kB 51.6MB/s \n",
            "\u001b[K     |████████████████████████████████| 37.6MB 90kB/s \n",
            "\u001b[K     |████████████████████████████████| 51kB 9.6MB/s \n",
            "\u001b[K     |████████████████████████████████| 174kB 50.0MB/s \n",
            "\u001b[K     |████████████████████████████████| 1.2MB 46.6MB/s \n",
            "\u001b[?25h  Building wheel for py-cpuinfo (setup.py) ... \u001b[?25l\u001b[?25hdone\n",
            "  Building wheel for seqeval (setup.py) ... \u001b[?25l\u001b[?25hdone\n"
          ],
          "name": "stdout"
        }
      ]
    },
    {
      "cell_type": "code",
      "metadata": {
        "id": "N5uYVnakcFH1"
      },
      "source": [
        "import os \r\n",
        "import shutil\r\n",
        "\r\n",
        "import tensorflow as tf\r\n",
        "import tensorflow_hub as hub\r\n",
        "import tensorflow_text as text \r\n",
        "#for AdamW optimizer\r\n",
        "from official.nlp import optimization \r\n",
        "\r\n",
        "import matplotlib.pyplot as plt\r\n",
        "tf.get_logger().setLevel('ERROR')"
      ],
      "execution_count": 3,
      "outputs": []
    },
    {
      "cell_type": "code",
      "metadata": {
        "colab": {
          "base_uri": "https://localhost:8080/"
        },
        "id": "y90vthnwdZl9",
        "outputId": "6c46ac00-c01a-4f0c-e448-70567797ad4a"
      },
      "source": [
        "#download dataset\r\n",
        "url = 'https://ai.stanford.edu/~amaas/data/sentiment/aclImdb_v1.tar.gz'\r\n",
        "\r\n",
        "dataset = tf.keras.utils.get_file('aclImdb_v1.tar.gz',\r\n",
        "                                 url, untar=True,\r\n",
        "                                 cache_dir='.', \r\n",
        "                                 cache_subdir='')\r\n",
        "\r\n",
        "dataset_dir = os.path.join(os.path.dirname(dataset), 'aclImdb')\r\n",
        "train_dir = os.path.join(dataset_dir, 'train')\r\n",
        "#remove unused folders to load necessary data easier\r\n",
        "remove_dir = os.path.join(train_dir, 'unsup')\r\n",
        "shutil.rmtree(remove_dir)"
      ],
      "execution_count": 4,
      "outputs": [
        {
          "output_type": "stream",
          "text": [
            "Downloading data from https://ai.stanford.edu/~amaas/data/sentiment/aclImdb_v1.tar.gz\n",
            "84131840/84125825 [==============================] - 4s 0us/step\n"
          ],
          "name": "stdout"
        }
      ]
    },
    {
      "cell_type": "code",
      "metadata": {
        "colab": {
          "base_uri": "https://localhost:8080/"
        },
        "id": "Mqz50Tyosfle",
        "outputId": "59d97163-83bc-401e-9aa7-09c29e4d9f66"
      },
      "source": [
        "#creating validation set using 80:20 approach \r\n",
        "AUTOTUNE = tf.data.AUTOTUNE\r\n",
        "batch_size = 32\r\n",
        "seed = 42\r\n",
        "\r\n",
        "raw_train_ds = tf.keras.preprocessing.text_dataset_from_directory(\r\n",
        "    'aclImdb/train',\r\n",
        "    batch_size=batch_size, \r\n",
        "    validation_split=0.2,\r\n",
        "    subset='training',\r\n",
        "    seed=seed)\r\n",
        "\r\n",
        "class_names = raw_train_ds.class_names\r\n",
        "train_ds = raw_train_ds.cache().prefetch(buffer_size=AUTOTUNE)\r\n",
        "\r\n",
        "val_ds = tf.keras.preprocessing.text_dataset_from_directory(\r\n",
        "    'aclImdb/train',\r\n",
        "    batch_size=batch_size,\r\n",
        "    validation_split=0.2,\r\n",
        "    subset='validation',\r\n",
        "    seed=seed)\r\n",
        "\r\n",
        "val_ds = val_ds.cache().prefetch(buffer_size=AUTOTUNE)\r\n",
        "\r\n",
        "test_ds = tf.keras.preprocessing.text_dataset_from_directory(\r\n",
        "    'aclImdb/test',\r\n",
        "    batch_size=batch_size)\r\n",
        "\r\n",
        "test_ds = test_ds.cache().prefetch(buffer_size=AUTOTUNE)"
      ],
      "execution_count": 5,
      "outputs": [
        {
          "output_type": "stream",
          "text": [
            "Found 25000 files belonging to 2 classes.\n",
            "Using 20000 files for training.\n",
            "Found 25000 files belonging to 2 classes.\n",
            "Using 5000 files for validation.\n",
            "Found 25000 files belonging to 2 classes.\n"
          ],
          "name": "stdout"
        }
      ]
    },
    {
      "cell_type": "code",
      "metadata": {
        "colab": {
          "base_uri": "https://localhost:8080/"
        },
        "id": "zuD6DqsAyY74",
        "outputId": "b65a3e48-adb9-4270-f8fe-1887c3e502c3"
      },
      "source": [
        "for text_batch, label_batch in train_ds.take(1):\r\n",
        "  for i in range(3):\r\n",
        "    print(f'Review: {text_batch.numpy()[i]}')\r\n",
        "    label = label_batch.numpy()[i]\r\n",
        "    print(f'Label : {label} ({class_names[label]})')"
      ],
      "execution_count": 6,
      "outputs": [
        {
          "output_type": "stream",
          "text": [
            "Review: b'\"Pandemonium\" is a horror movie spoof that comes off more stupid than funny. Believe me when I tell you, I love comedies. Especially comedy spoofs. \"Airplane\", \"The Naked Gun\" trilogy, \"Blazing Saddles\", \"High Anxiety\", and \"Spaceballs\" are some of my favorite comedies that spoof a particular genre. \"Pandemonium\" is not up there with those films. Most of the scenes in this movie had me sitting there in stunned silence because the movie wasn\\'t all that funny. There are a few laughs in the film, but when you watch a comedy, you expect to laugh a lot more than a few times and that\\'s all this film has going for it. Geez, \"Scream\" had more laughs than this film and that was more of a horror film. How bizarre is that?<br /><br />*1/2 (out of four)'\n",
            "Label : 0 (neg)\n",
            "Review: b\"David Mamet is a very interesting and a very un-equal director. His first movie 'House of Games' was the one I liked best, and it set a series of films with characters whose perspective of life changes as they get into complicated situations, and so does the perspective of the viewer.<br /><br />So is 'Homicide' which from the title tries to set the mind of the viewer to the usual crime drama. The principal characters are two cops, one Jewish and one Irish who deal with a racially charged area. The murder of an old Jewish shop owner who proves to be an ancient veteran of the Israeli Independence war triggers the Jewish identity in the mind and heart of the Jewish detective.<br /><br />This is were the flaws of the film are the more obvious. The process of awakening is theatrical and hard to believe, the group of Jewish militants is operatic, and the way the detective eventually walks to the final violent confrontation is pathetic. The end of the film itself is Mamet-like smart, but disappoints from a human emotional perspective.<br /><br />Joe Mantegna and William Macy give strong performances, but the flaws of the story are too evident to be easily compensated.\"\n",
            "Label : 0 (neg)\n",
            "Review: b'Great documentary about the lives of NY firefighters during the worst terrorist attack of all time.. That reason alone is why this should be a must see collectors item.. What shocked me was not only the attacks, but the\"High Fat Diet\" and physical appearance of some of these firefighters. I think a lot of Doctors would agree with me that,in the physical shape they were in, some of these firefighters would NOT of made it to the 79th floor carrying over 60 lbs of gear. Having said that i now have a greater respect for firefighters and i realize becoming a firefighter is a life altering job. The French have a history of making great documentary\\'s and that is what this is, a Great Documentary.....'\n",
            "Label : 1 (pos)\n"
          ],
          "name": "stdout"
        }
      ]
    },
    {
      "cell_type": "code",
      "metadata": {
        "colab": {
          "base_uri": "https://localhost:8080/"
        },
        "id": "ePtIUf2I0-Vq",
        "outputId": "3993bb8e-5bf8-4fc3-bc62-034c7c598f00"
      },
      "source": [
        "#selecting one of the possible BERT models to fine-tune\r\n",
        "#BERT model selected           : https://tfhub.dev/tensorflow/small_bert/bert_en_uncased_L-4_H-512_A-8/1\r\n",
        "#Preprocess model auto-selected: https://tfhub.dev/tensorflow/bert_en_uncased_preprocess/3\r\n",
        "bert_model_name = 'small_bert/bert_en_uncased_L-4_H-512_A-8' \r\n",
        "\r\n",
        "map_name_to_handle = {\r\n",
        "    'bert_en_uncased_L-12_H-768_A-12':\r\n",
        "        'https://tfhub.dev/tensorflow/bert_en_uncased_L-12_H-768_A-12/3',\r\n",
        "    'bert_en_cased_L-12_H-768_A-12':\r\n",
        "        'https://tfhub.dev/tensorflow/bert_en_cased_L-12_H-768_A-12/3',\r\n",
        "    'bert_multi_cased_L-12_H-768_A-12':\r\n",
        "        'https://tfhub.dev/tensorflow/bert_multi_cased_L-12_H-768_A-12/3',\r\n",
        "    'small_bert/bert_en_uncased_L-2_H-128_A-2':\r\n",
        "        'https://tfhub.dev/tensorflow/small_bert/bert_en_uncased_L-2_H-128_A-2/1',\r\n",
        "    'small_bert/bert_en_uncased_L-2_H-256_A-4':\r\n",
        "        'https://tfhub.dev/tensorflow/small_bert/bert_en_uncased_L-2_H-256_A-4/1',\r\n",
        "    'small_bert/bert_en_uncased_L-2_H-512_A-8':\r\n",
        "        'https://tfhub.dev/tensorflow/small_bert/bert_en_uncased_L-2_H-512_A-8/1',\r\n",
        "    'small_bert/bert_en_uncased_L-2_H-768_A-12':\r\n",
        "        'https://tfhub.dev/tensorflow/small_bert/bert_en_uncased_L-2_H-768_A-12/1',\r\n",
        "    'small_bert/bert_en_uncased_L-4_H-128_A-2':\r\n",
        "        'https://tfhub.dev/tensorflow/small_bert/bert_en_uncased_L-4_H-128_A-2/1',\r\n",
        "    'small_bert/bert_en_uncased_L-4_H-256_A-4':\r\n",
        "        'https://tfhub.dev/tensorflow/small_bert/bert_en_uncased_L-4_H-256_A-4/1',\r\n",
        "    'small_bert/bert_en_uncased_L-4_H-512_A-8':\r\n",
        "        'https://tfhub.dev/tensorflow/small_bert/bert_en_uncased_L-4_H-512_A-8/1',\r\n",
        "    'small_bert/bert_en_uncased_L-4_H-768_A-12':\r\n",
        "        'https://tfhub.dev/tensorflow/small_bert/bert_en_uncased_L-4_H-768_A-12/1',\r\n",
        "    'small_bert/bert_en_uncased_L-6_H-128_A-2':\r\n",
        "        'https://tfhub.dev/tensorflow/small_bert/bert_en_uncased_L-6_H-128_A-2/1',\r\n",
        "    'small_bert/bert_en_uncased_L-6_H-256_A-4':\r\n",
        "        'https://tfhub.dev/tensorflow/small_bert/bert_en_uncased_L-6_H-256_A-4/1',\r\n",
        "    'small_bert/bert_en_uncased_L-6_H-512_A-8':\r\n",
        "        'https://tfhub.dev/tensorflow/small_bert/bert_en_uncased_L-6_H-512_A-8/1',\r\n",
        "    'small_bert/bert_en_uncased_L-6_H-768_A-12':\r\n",
        "        'https://tfhub.dev/tensorflow/small_bert/bert_en_uncased_L-6_H-768_A-12/1',\r\n",
        "    'small_bert/bert_en_uncased_L-8_H-128_A-2':\r\n",
        "        'https://tfhub.dev/tensorflow/small_bert/bert_en_uncased_L-8_H-128_A-2/1',\r\n",
        "    'small_bert/bert_en_uncased_L-8_H-256_A-4':\r\n",
        "        'https://tfhub.dev/tensorflow/small_bert/bert_en_uncased_L-8_H-256_A-4/1',\r\n",
        "    'small_bert/bert_en_uncased_L-8_H-512_A-8':\r\n",
        "        'https://tfhub.dev/tensorflow/small_bert/bert_en_uncased_L-8_H-512_A-8/1',\r\n",
        "    'small_bert/bert_en_uncased_L-8_H-768_A-12':\r\n",
        "        'https://tfhub.dev/tensorflow/small_bert/bert_en_uncased_L-8_H-768_A-12/1',\r\n",
        "    'small_bert/bert_en_uncased_L-10_H-128_A-2':\r\n",
        "        'https://tfhub.dev/tensorflow/small_bert/bert_en_uncased_L-10_H-128_A-2/1',\r\n",
        "    'small_bert/bert_en_uncased_L-10_H-256_A-4':\r\n",
        "        'https://tfhub.dev/tensorflow/small_bert/bert_en_uncased_L-10_H-256_A-4/1',\r\n",
        "    'small_bert/bert_en_uncased_L-10_H-512_A-8':\r\n",
        "        'https://tfhub.dev/tensorflow/small_bert/bert_en_uncased_L-10_H-512_A-8/1',\r\n",
        "    'small_bert/bert_en_uncased_L-10_H-768_A-12':\r\n",
        "        'https://tfhub.dev/tensorflow/small_bert/bert_en_uncased_L-10_H-768_A-12/1',\r\n",
        "    'small_bert/bert_en_uncased_L-12_H-128_A-2':\r\n",
        "        'https://tfhub.dev/tensorflow/small_bert/bert_en_uncased_L-12_H-128_A-2/1',\r\n",
        "    'small_bert/bert_en_uncased_L-12_H-256_A-4':\r\n",
        "        'https://tfhub.dev/tensorflow/small_bert/bert_en_uncased_L-12_H-256_A-4/1',\r\n",
        "    'small_bert/bert_en_uncased_L-12_H-512_A-8':\r\n",
        "        'https://tfhub.dev/tensorflow/small_bert/bert_en_uncased_L-12_H-512_A-8/1',\r\n",
        "    'small_bert/bert_en_uncased_L-12_H-768_A-12':\r\n",
        "        'https://tfhub.dev/tensorflow/small_bert/bert_en_uncased_L-12_H-768_A-12/1',\r\n",
        "    'albert_en_base':\r\n",
        "        'https://tfhub.dev/tensorflow/albert_en_base/2',\r\n",
        "    'electra_small':\r\n",
        "        'https://tfhub.dev/google/electra_small/2',\r\n",
        "    'electra_base':\r\n",
        "        'https://tfhub.dev/google/electra_base/2',\r\n",
        "    'experts_pubmed':\r\n",
        "        'https://tfhub.dev/google/experts/bert/pubmed/2',\r\n",
        "    'experts_wiki_books':\r\n",
        "        'https://tfhub.dev/google/experts/bert/wiki_books/2',\r\n",
        "    'talking-heads_base':\r\n",
        "        'https://tfhub.dev/tensorflow/talkheads_ggelu_bert_en_base/1',\r\n",
        "}\r\n",
        "\r\n",
        "map_model_to_preprocess = {\r\n",
        "    'bert_en_uncased_L-12_H-768_A-12':\r\n",
        "        'https://tfhub.dev/tensorflow/bert_en_uncased_preprocess/3',\r\n",
        "    'bert_en_cased_L-12_H-768_A-12':\r\n",
        "        'https://tfhub.dev/tensorflow/bert_en_cased_preprocess/3',\r\n",
        "    'small_bert/bert_en_uncased_L-2_H-128_A-2':\r\n",
        "        'https://tfhub.dev/tensorflow/bert_en_uncased_preprocess/3',\r\n",
        "    'small_bert/bert_en_uncased_L-2_H-256_A-4':\r\n",
        "        'https://tfhub.dev/tensorflow/bert_en_uncased_preprocess/3',\r\n",
        "    'small_bert/bert_en_uncased_L-2_H-512_A-8':\r\n",
        "        'https://tfhub.dev/tensorflow/bert_en_uncased_preprocess/3',\r\n",
        "    'small_bert/bert_en_uncased_L-2_H-768_A-12':\r\n",
        "        'https://tfhub.dev/tensorflow/bert_en_uncased_preprocess/3',\r\n",
        "    'small_bert/bert_en_uncased_L-4_H-128_A-2':\r\n",
        "        'https://tfhub.dev/tensorflow/bert_en_uncased_preprocess/3',\r\n",
        "    'small_bert/bert_en_uncased_L-4_H-256_A-4':\r\n",
        "        'https://tfhub.dev/tensorflow/bert_en_uncased_preprocess/3',\r\n",
        "    'small_bert/bert_en_uncased_L-4_H-512_A-8':\r\n",
        "        'https://tfhub.dev/tensorflow/bert_en_uncased_preprocess/3',\r\n",
        "    'small_bert/bert_en_uncased_L-4_H-768_A-12':\r\n",
        "        'https://tfhub.dev/tensorflow/bert_en_uncased_preprocess/3',\r\n",
        "    'small_bert/bert_en_uncased_L-6_H-128_A-2':\r\n",
        "        'https://tfhub.dev/tensorflow/bert_en_uncased_preprocess/3',\r\n",
        "    'small_bert/bert_en_uncased_L-6_H-256_A-4':\r\n",
        "        'https://tfhub.dev/tensorflow/bert_en_uncased_preprocess/3',\r\n",
        "    'small_bert/bert_en_uncased_L-6_H-512_A-8':\r\n",
        "        'https://tfhub.dev/tensorflow/bert_en_uncased_preprocess/3',\r\n",
        "    'small_bert/bert_en_uncased_L-6_H-768_A-12':\r\n",
        "        'https://tfhub.dev/tensorflow/bert_en_uncased_preprocess/3',\r\n",
        "    'small_bert/bert_en_uncased_L-8_H-128_A-2':\r\n",
        "        'https://tfhub.dev/tensorflow/bert_en_uncased_preprocess/3',\r\n",
        "    'small_bert/bert_en_uncased_L-8_H-256_A-4':\r\n",
        "        'https://tfhub.dev/tensorflow/bert_en_uncased_preprocess/3',\r\n",
        "    'small_bert/bert_en_uncased_L-8_H-512_A-8':\r\n",
        "        'https://tfhub.dev/tensorflow/bert_en_uncased_preprocess/3',\r\n",
        "    'small_bert/bert_en_uncased_L-8_H-768_A-12':\r\n",
        "        'https://tfhub.dev/tensorflow/bert_en_uncased_preprocess/3',\r\n",
        "    'small_bert/bert_en_uncased_L-10_H-128_A-2':\r\n",
        "        'https://tfhub.dev/tensorflow/bert_en_uncased_preprocess/3',\r\n",
        "    'small_bert/bert_en_uncased_L-10_H-256_A-4':\r\n",
        "        'https://tfhub.dev/tensorflow/bert_en_uncased_preprocess/3',\r\n",
        "    'small_bert/bert_en_uncased_L-10_H-512_A-8':\r\n",
        "        'https://tfhub.dev/tensorflow/bert_en_uncased_preprocess/3',\r\n",
        "    'small_bert/bert_en_uncased_L-10_H-768_A-12':\r\n",
        "        'https://tfhub.dev/tensorflow/bert_en_uncased_preprocess/3',\r\n",
        "    'small_bert/bert_en_uncased_L-12_H-128_A-2':\r\n",
        "        'https://tfhub.dev/tensorflow/bert_en_uncased_preprocess/3',\r\n",
        "    'small_bert/bert_en_uncased_L-12_H-256_A-4':\r\n",
        "        'https://tfhub.dev/tensorflow/bert_en_uncased_preprocess/3',\r\n",
        "    'small_bert/bert_en_uncased_L-12_H-512_A-8':\r\n",
        "        'https://tfhub.dev/tensorflow/bert_en_uncased_preprocess/3',\r\n",
        "    'small_bert/bert_en_uncased_L-12_H-768_A-12':\r\n",
        "        'https://tfhub.dev/tensorflow/bert_en_uncased_preprocess/3',\r\n",
        "    'bert_multi_cased_L-12_H-768_A-12':\r\n",
        "        'https://tfhub.dev/tensorflow/bert_multi_cased_preprocess/3',\r\n",
        "    'albert_en_base':\r\n",
        "        'https://tfhub.dev/tensorflow/albert_en_preprocess/2',\r\n",
        "    'electra_small':\r\n",
        "        'https://tfhub.dev/tensorflow/bert_en_uncased_preprocess/3',\r\n",
        "    'electra_base':\r\n",
        "        'https://tfhub.dev/tensorflow/bert_en_uncased_preprocess/3',\r\n",
        "    'experts_pubmed':\r\n",
        "        'https://tfhub.dev/tensorflow/bert_en_uncased_preprocess/3',\r\n",
        "    'experts_wiki_books':\r\n",
        "        'https://tfhub.dev/tensorflow/bert_en_uncased_preprocess/3',\r\n",
        "    'talking-heads_base':\r\n",
        "        'https://tfhub.dev/tensorflow/bert_en_uncased_preprocess/3',\r\n",
        "}\r\n",
        "\r\n",
        "tfhub_handle_encoder = map_name_to_handle[bert_model_name]\r\n",
        "tfhub_handle_preprocess = map_model_to_preprocess[bert_model_name]\r\n",
        "\r\n",
        "print(f'BERT model selected           : {tfhub_handle_encoder}')\r\n",
        "print(f'Preprocess model auto-selected: {tfhub_handle_preprocess}')\r\n"
      ],
      "execution_count": 7,
      "outputs": [
        {
          "output_type": "stream",
          "text": [
            "BERT model selected           : https://tfhub.dev/tensorflow/small_bert/bert_en_uncased_L-4_H-512_A-8/1\n",
            "Preprocess model auto-selected: https://tfhub.dev/tensorflow/bert_en_uncased_preprocess/3\n"
          ],
          "name": "stdout"
        }
      ]
    },
    {
      "cell_type": "code",
      "metadata": {
        "id": "XvR1sj9e4vqW"
      },
      "source": [
        "#the preprocessing model \r\n",
        "#Text inputs need to be transformed to \r\n",
        "#numeric token ids and arranged in several Tensors\r\n",
        "#before being input to BERT.\r\n",
        "bert_preprocess_model = hub.KerasLayer(tfhub_handle_preprocess)"
      ],
      "execution_count": 8,
      "outputs": []
    },
    {
      "cell_type": "code",
      "metadata": {
        "colab": {
          "base_uri": "https://localhost:8080/"
        },
        "id": "auI4EKw27iyC",
        "outputId": "60f7ba84-7ffa-4918-f0f6-3f86dc8aadee"
      },
      "source": [
        "text_test = ['this movie was fine, still I might watch something else']\r\n",
        "text_preprocessed = bert_preprocess_model(text_test)\r\n",
        "print(f'Keys       : {list(text_preprocessed.keys())}')\r\n",
        "print(f'Shape      : {text_preprocessed[\"input_word_ids\"].shape}')\r\n",
        "print(f'Word Ids   : {text_preprocessed[\"input_word_ids\"][0, :12]}')\r\n",
        "print(f'Input Mask : {text_preprocessed[\"input_mask\"][0, :12]}')\r\n",
        "print(f'Type Ids   : {text_preprocessed[\"input_type_ids\"][0, :12]}')"
      ],
      "execution_count": 9,
      "outputs": [
        {
          "output_type": "stream",
          "text": [
            "Keys       : ['input_word_ids', 'input_mask', 'input_type_ids']\n",
            "Shape      : (1, 128)\n",
            "Word Ids   : [ 101 2023 3185 2001 2986 1010 2145 1045 2453 3422 2242 2842]\n",
            "Input Mask : [1 1 1 1 1 1 1 1 1 1 1 1]\n",
            "Type Ids   : [0 0 0 0 0 0 0 0 0 0 0 0]\n"
          ],
          "name": "stdout"
        }
      ]
    },
    {
      "cell_type": "code",
      "metadata": {
        "colab": {
          "base_uri": "https://localhost:8080/"
        },
        "id": "06VKTg0678ox",
        "outputId": "b4ce11b2-4ff1-479a-d1cc-d33381afd740"
      },
      "source": [
        "#using bert model \r\n",
        "bert_model = hub.KerasLayer(tfhub_handle_encoder)\r\n",
        "bert_results = bert_model(text_preprocessed)\r\n",
        "print(f'Loaded BERT: {tfhub_handle_encoder}')\r\n",
        "print(f'Pooled Outputs Shape:{bert_results[\"pooled_output\"].shape}')\r\n",
        "print(f'Pooled Outputs Values:{bert_results[\"pooled_output\"][0, :12]}')\r\n",
        "print(f'Sequence Outputs Shape:{bert_results[\"sequence_output\"].shape}')\r\n",
        "print(f'Sequence Outputs Values:{bert_results[\"sequence_output\"][0, :12]}')"
      ],
      "execution_count": 10,
      "outputs": [
        {
          "output_type": "stream",
          "text": [
            "Loaded BERT: https://tfhub.dev/tensorflow/small_bert/bert_en_uncased_L-4_H-512_A-8/1\n",
            "Pooled Outputs Shape:(1, 512)\n",
            "Pooled Outputs Values:[ 0.9262306   0.28673843  0.02331707  0.12814908 -0.22665384  0.79851\n",
            "  0.92108107 -0.9969367  -0.14466947 -0.99508584  0.05277264 -0.9965735 ]\n",
            "Sequence Outputs Shape:(1, 128, 512)\n",
            "Sequence Outputs Values:[[-0.24446978  0.22647268  0.7320689  ... -0.34055635 -0.06544931\n",
            "   0.02718657]\n",
            " [-0.13457473  0.05846056  0.20845643 ... -0.3255371  -0.54757315\n",
            "   0.406689  ]\n",
            " [-0.00416672  0.59848475  0.22054175 ...  0.27435386  0.8795335\n",
            "   0.48934594]\n",
            " ...\n",
            " [-1.0784366  -0.10882429  0.7060464  ... -0.5312914   0.04102274\n",
            "   0.2877177 ]\n",
            " [-0.6964717   0.35927573 -0.7344933  ... -0.10761419  0.54329616\n",
            "   0.10227261]\n",
            " [-0.6852286  -0.190035   -1.7229315  ... -0.83491755  1.1486728\n",
            "  -0.2662798 ]]\n"
          ],
          "name": "stdout"
        }
      ]
    },
    {
      "cell_type": "code",
      "metadata": {
        "colab": {
          "base_uri": "https://localhost:8080/"
        },
        "id": "s5bJdlu1-VZL",
        "outputId": "53d6114e-55bc-4333-c227-2b3922dc4f79"
      },
      "source": [
        "#define model\r\n",
        "def build_classifier_model():\r\n",
        "  text_input = tf.keras.layers.Input(shape=(), dtype=tf.string, name='text')\r\n",
        "  preprocessing_layer = hub.KerasLayer(tfhub_handle_preprocess, name='preprocessing')\r\n",
        "  encoder_inputs = preprocessing_layer(text_input)\r\n",
        "  encoder = hub.KerasLayer(tfhub_handle_encoder, trainable=True, name='BERT_encoder')\r\n",
        "  outputs = encoder(encoder_inputs)\r\n",
        "  net = outputs['pooled_output']\r\n",
        "  net = tf.keras.layers.Dropout(0.1)(net)\r\n",
        "  net = tf.keras.layers.Dense(1, activation=None, name='classifier')(net)\r\n",
        "  return tf.keras.Model(text_input, net)\r\n",
        "#check if model runs with the output of preprocessing model \r\n",
        "classifier_model = build_classifier_model()\r\n",
        "bert_raw_result = classifier_model(tf.constant(text_test))\r\n",
        "print(tf.sigmoid(bert_raw_result))"
      ],
      "execution_count": 11,
      "outputs": [
        {
          "output_type": "stream",
          "text": [
            "tf.Tensor([[0.732265]], shape=(1, 1), dtype=float32)\n"
          ],
          "name": "stdout"
        }
      ]
    },
    {
      "cell_type": "code",
      "metadata": {
        "colab": {
          "base_uri": "https://localhost:8080/",
          "height": 466
        },
        "id": "Jw0aYfvTBJSY",
        "outputId": "eaaa0abf-ef7f-481f-f5ce-fd2fd6ce3170"
      },
      "source": [
        "#model's structure \r\n",
        "tf.keras.utils.plot_model(classifier_model)"
      ],
      "execution_count": 12,
      "outputs": [
        {
          "output_type": "execute_result",
          "data": {
            "image/png": "[encoded data removed]",
            "text/plain": [
              "<IPython.core.display.Image object>"
            ]
          },
          "metadata": {
            "tags": []
          },
          "execution_count": 12
        }
      ]
    },
    {
      "cell_type": "code",
      "metadata": {
        "id": "iX8DDurWCf-a"
      },
      "source": [
        "#training model \r\n",
        "loss = tf.keras.losses.BinaryCrossentropy(from_logits=True)\r\n",
        "metrics = tf.metrics.BinaryAccuracy()\r\n",
        "\r\n",
        "epochs = 5\r\n",
        "steps_per_epoch = tf.data.experimental.cardinality(train_ds).numpy()\r\n",
        "num_train_steps = steps_per_epoch * epochs\r\n",
        "num_warmup_steps = int(0.1*num_train_steps)\r\n",
        "\r\n",
        "init_lr = 3e-5\r\n",
        "optimizer = optimization.create_optimizer(init_lr=init_lr,\r\n",
        "                                          num_train_steps=num_train_steps,\r\n",
        "                                          num_warmup_steps=num_warmup_steps)"
      ],
      "execution_count": 13,
      "outputs": []
    },
    {
      "cell_type": "code",
      "metadata": {
        "colab": {
          "base_uri": "https://localhost:8080/"
        },
        "id": "fQq51qmxKuF7",
        "outputId": "dc2faa81-86ca-4eef-c37e-8e6ba91359b4"
      },
      "source": [
        "#loading the train model and training \r\n",
        "classifier_model.compile(optimizer=optimizer,\r\n",
        "                         loss=loss, \r\n",
        "                         metrics=metrics)\r\n",
        "print(f'Training model with {tfhub_handle_encoder}')\r\n",
        "history = classifier_model.fit(x=train_ds,\r\n",
        "                               validation_data=val_ds,\r\n",
        "                               epochs=epochs)"
      ],
      "execution_count": 14,
      "outputs": [
        {
          "output_type": "stream",
          "text": [
            "Training model with https://tfhub.dev/tensorflow/small_bert/bert_en_uncased_L-4_H-512_A-8/1\n",
            "Epoch 1/5\n",
            "625/625 [==============================] - 169s 263ms/step - loss: 0.5850 - binary_accuracy: 0.6640 - val_loss: 0.3886 - val_binary_accuracy: 0.8336\n",
            "Epoch 2/5\n",
            "625/625 [==============================] - 160s 256ms/step - loss: 0.3601 - binary_accuracy: 0.8397 - val_loss: 0.3708 - val_binary_accuracy: 0.8374\n",
            "Epoch 3/5\n",
            "625/625 [==============================] - 159s 254ms/step - loss: 0.2758 - binary_accuracy: 0.8798 - val_loss: 0.3916 - val_binary_accuracy: 0.8484\n",
            "Epoch 4/5\n",
            "625/625 [==============================] - 159s 255ms/step - loss: 0.2036 - binary_accuracy: 0.9180 - val_loss: 0.4388 - val_binary_accuracy: 0.8486\n",
            "Epoch 5/5\n",
            "625/625 [==============================] - 160s 256ms/step - loss: 0.1631 - binary_accuracy: 0.9385 - val_loss: 0.4758 - val_binary_accuracy: 0.8482\n"
          ],
          "name": "stdout"
        }
      ]
    },
    {
      "cell_type": "code",
      "metadata": {
        "colab": {
          "base_uri": "https://localhost:8080/"
        },
        "id": "Wu0V2B6gQbxQ",
        "outputId": "dc2e77b9-26e9-4e21-aa4c-67fb1d37d584"
      },
      "source": [
        "loss, accuracy = classifier_model.evaluate(test_ds)\r\n",
        "\r\n",
        "print(f'loss:     {loss}')\r\n",
        "print(f'accuracy: {accuracy}')"
      ],
      "execution_count": 15,
      "outputs": [
        {
          "output_type": "stream",
          "text": [
            "782/782 [==============================] - 86s 110ms/step - loss: 0.4514 - binary_accuracy: 0.8556\n",
            "loss:     0.45141926407814026\n",
            "accuracy: 0.8556399941444397\n"
          ],
          "name": "stdout"
        }
      ]
    },
    {
      "cell_type": "code",
      "metadata": {
        "colab": {
          "base_uri": "https://localhost:8080/",
          "height": 440
        },
        "id": "DMz5DsbuQuDe",
        "outputId": "cc5de369-8f98-4db8-8f92-c45cea33811d"
      },
      "source": [
        "#plot the accuracy and loss over time \r\n",
        "history_dict = history.history\r\n",
        "print(history_dict.keys())\r\n",
        "\r\n",
        "acc = history_dict['binary_accuracy']\r\n",
        "val_acc = history_dict['val_binary_accuracy']\r\n",
        "\r\n",
        "loss = history_dict['loss']\r\n",
        "val_loss = history_dict['val_loss']\r\n",
        "\r\n",
        "epochs = range(1, len(acc)+1)\r\n",
        "fig = plt.figure(figsize=(10, 6))\r\n",
        "fig.tight_layout()\r\n",
        "\r\n",
        "plt.subplot(2, 1, 1)\r\n",
        "plt.plot(epochs, loss, 'r', label='training loss')\r\n",
        "plt.plot(epochs, val_loss, 'b', label='validation loss')\r\n",
        "plt.title('training and validation loss')\r\n",
        "plt.xlabel('epochs')\r\n",
        "plt.ylabel('loss')\r\n",
        "plt.legend()\r\n",
        "\r\n",
        "plt.subplot(2, 1, 2)\r\n",
        "plt.plot(epochs, acc, 'r', label='Training acc')\r\n",
        "plt.plot(epochs, val_acc, 'b', label='Validation acc')\r\n",
        "plt.title('training and validation accuracy')\r\n",
        "plt.xlabel('epochs')\r\n",
        "plt.ylabel('accuracy')\r\n",
        "plt.legend(loc='lower right')"
      ],
      "execution_count": 16,
      "outputs": [
        {
          "output_type": "stream",
          "text": [
            "dict_keys(['loss', 'binary_accuracy', 'val_loss', 'val_binary_accuracy'])\n"
          ],
          "name": "stdout"
        },
        {
          "output_type": "execute_result",
          "data": {
            "text/plain": [
              "<matplotlib.legend.Legend at 0x7f9fba755710>"
            ]
          },
          "metadata": {
            "tags": []
          },
          "execution_count": 16
        },
        {
          "output_type": "display_data",
          "data": {
            "image/png": "[encoded data removed]",
            "text/plain": [
              "<Figure size 720x432 with 2 Axes>"
            ]
          },
          "metadata": {
            "tags": [],
            "needs_background": "light"
          }
        }
      ]
    },
    {
      "cell_type": "code",
      "metadata": {
        "colab": {
          "base_uri": "https://localhost:8080/"
        },
        "id": "u5VZ51dkUtNv",
        "outputId": "b6795d7e-5405-491a-f30f-a03fd96e96d0"
      },
      "source": [
        "#export for inference\r\n",
        "dataset_name = 'imdb'\r\n",
        "saved_model_path = './{}_bert'.format(dataset_name.replace('/', '_'))\r\n",
        "classifier_model.save(saved_model_path, include_optimizer=False)"
      ],
      "execution_count": 17,
      "outputs": [
        {
          "output_type": "stream",
          "text": [
            "WARNING:absl:Found untraced functions such as restored_function_body, restored_function_body, restored_function_body, restored_function_body, restored_function_body while saving (showing 5 of 310). These functions will not be directly callable after loading.\n",
            "WARNING:absl:Found untraced functions such as restored_function_body, restored_function_body, restored_function_body, restored_function_body, restored_function_body while saving (showing 5 of 310). These functions will not be directly callable after loading.\n"
          ],
          "name": "stderr"
        }
      ]
    },
    {
      "cell_type": "code",
      "metadata": {
        "id": "7i7pxzWLVCG5"
      },
      "source": [
        "#reload model (the one, which remains in memory)\r\n",
        "reloaded_model = tf.saved_model.load(saved_model_path)"
      ],
      "execution_count": 18,
      "outputs": []
    },
    {
      "cell_type": "code",
      "metadata": {
        "colab": {
          "base_uri": "https://localhost:8080/"
        },
        "id": "z7MoAUv2VoF5",
        "outputId": "242dc79e-7a41-4425-93cc-38bf70f6f70d"
      },
      "source": [
        "# def print_my_examples(inputs, results):\r\n",
        "#   result_for_printing = \\\r\n",
        "#     [f'input: {inputs[i]:<30} : score: {results[i][0]:.6f}'\r\n",
        "#                          for i in range(len(inputs))]\r\n",
        "#   print(*result_for_printing, sep='\\n')\r\n",
        "#   print()\r\n",
        "\r\n",
        "\r\n",
        "# examples = [\r\n",
        "#     'This movie was very bad i did nor like it at all, maybe someone else would like it',\r\n",
        "#     'The movie was great!',\r\n",
        "#     'The movie was meh.',\r\n",
        "#     'The movie was okish.',\r\n",
        "#     'The movie was terrible...'\r\n",
        "# ]\r\n",
        "\r\n",
        "# reloaded_results = tf.sigmoid(reloaded_model(tf.constant(examples)))\r\n",
        "# original_results = tf.sigmoid(classifier_model(tf.constant(examples)))\r\n",
        "\r\n",
        "# print('Results from the saved model:')\r\n",
        "# print_my_examples(examples, reloaded_results)\r\n",
        "# print('Results from the model in memory:')\r\n",
        "# print_my_examples(examples, original_results)"
      ],
      "execution_count": 21,
      "outputs": [
        {
          "output_type": "stream",
          "text": [
            "Results from the saved model:\n",
            "input: This movie was very bad i did nor like it at all, maybe someone else would like it : score: 0.009982\n",
            "input: The movie was great!           : score: 0.990710\n",
            "input: The movie was meh.             : score: 0.932469\n",
            "input: The movie was okish.           : score: 0.025568\n",
            "input: The movie was terrible...      : score: 0.003219\n",
            "\n",
            "Results from the model in memory:\n",
            "input: This movie was very bad i did nor like it at all, maybe someone else would like it : score: 0.009982\n",
            "input: The movie was great!           : score: 0.990710\n",
            "input: The movie was meh.             : score: 0.932469\n",
            "input: The movie was okish.           : score: 0.025568\n",
            "input: The movie was terrible...      : score: 0.003219\n",
            "\n"
          ],
          "name": "stdout"
        }
      ]
    }
  ]
}